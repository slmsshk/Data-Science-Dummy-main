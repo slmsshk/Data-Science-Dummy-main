{
 "cells": [
  {
   "cell_type": "code",
   "execution_count": 1,
   "id": "459d1d1f-48b5-4ac5-8771-d807fcc6f431",
   "metadata": {},
   "outputs": [],
   "source": [
    "import seaborn as sns"
   ]
  },
  {
   "cell_type": "code",
   "execution_count": 17,
   "id": "c0e96350-3565-4113-98ab-cb975e1b8305",
   "metadata": {},
   "outputs": [],
   "source": [
    "data = sns.load_dataset('tips')\n",
    "# data"
   ]
  },
  {
   "cell_type": "code",
   "execution_count": 14,
   "id": "71940d2f-e899-4227-8073-1bc3c8ce0909",
   "metadata": {},
   "outputs": [],
   "source": [
    "import pandas as pd\n",
    "\n",
    "test = data[['sex','smoker']]\n",
    "\n",
    "tab = pd.crosstab(test.sex,test.smoker)"
   ]
  },
  {
   "cell_type": "code",
   "execution_count": 15,
   "id": "67eaff71-2a3d-409a-b17d-bd07a0daf7be",
   "metadata": {},
   "outputs": [],
   "source": [
    "from scipy import stats"
   ]
  },
  {
   "cell_type": "code",
   "execution_count": 16,
   "id": "36641eee-b4e4-4fc9-851a-e8313a4a419a",
   "metadata": {},
   "outputs": [
    {
     "data": {
      "text/plain": [
       "Chi2ContingencyResult(statistic=0.0, pvalue=1.0, dof=1, expected_freq=array([[59.84016393, 97.15983607],\n",
       "       [33.15983607, 53.84016393]]))"
      ]
     },
     "execution_count": 16,
     "metadata": {},
     "output_type": "execute_result"
    }
   ],
   "source": [
    "stats.chi2_contingency(tab)"
   ]
  },
  {
   "cell_type": "code",
   "execution_count": 12,
   "id": "c99d91ea-fff3-4b84-b3e1-bacb1ad989e5",
   "metadata": {},
   "outputs": [
    {
     "data": {
      "text/plain": [
       "<function scipy.stats._stats_py.chisquare(f_obs, f_exp=None, ddof=0, axis=0)>"
      ]
     },
     "execution_count": 12,
     "metadata": {},
     "output_type": "execute_result"
    }
   ],
   "source": [
    "stats.chisquare"
   ]
  }
 ],
 "metadata": {
  "kernelspec": {
   "display_name": "Python 3 (ipykernel)",
   "language": "python",
   "name": "python3"
  },
  "language_info": {
   "codemirror_mode": {
    "name": "ipython",
    "version": 3
   },
   "file_extension": ".py",
   "mimetype": "text/x-python",
   "name": "python",
   "nbconvert_exporter": "python",
   "pygments_lexer": "ipython3",
   "version": "3.11.5"
  }
 },
 "nbformat": 4,
 "nbformat_minor": 5
}
