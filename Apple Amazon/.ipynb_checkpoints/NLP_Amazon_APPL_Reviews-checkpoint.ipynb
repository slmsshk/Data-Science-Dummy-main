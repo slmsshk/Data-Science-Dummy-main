{
 "cells": [
  {
   "cell_type": "code",
   "execution_count": 22,
   "id": "c16d92d4-f0c4-4bcd-9858-accd745b8dc4",
   "metadata": {},
   "outputs": [],
   "source": [
    "import pandas as pd\n",
    "\n",
    "import requests\n",
    "import time\n",
    "from bs4 import BeautifulSoup"
   ]
  },
  {
   "cell_type": "code",
   "execution_count": 11,
   "id": "2b8ee12a-64c3-431e-887b-dd0e7710f725",
   "metadata": {},
   "outputs": [],
   "source": [
    "url = 'https://www.amazon.in/stores/page/9A94395C-E55D-4231-9BB7-CA3449862110'"
   ]
  },
  {
   "cell_type": "markdown",
   "id": "839e1c7f-f69a-4a10-a23b-734d28bf3935",
   "metadata": {},
   "source": [
    "## BS4"
   ]
  },
  {
   "cell_type": "code",
   "execution_count": 12,
   "id": "c6d10c28-e899-4470-9fc9-5d91839463b9",
   "metadata": {},
   "outputs": [],
   "source": [
    "response = requests.get(url)\n",
    "soup = BeautifulSoup(response.content, 'html.parser')\n",
    "\n",
    "products = soup.find_all('li', {'class': 'ProductGridItem__itemOuter__KUtvv ProductGridItem__grid-tapestry__D0bpE ProductGridItem__fixed__DQzmO'})\n",
    "product_list = []\n",
    "\n",
    "\n",
    "for product in products:\n",
    "    html_snippet = str(product)\n",
    "    \n",
    "    soup = BeautifulSoup(html_snippet, 'lxml')\n",
    "    \n",
    "    # Parse elements\n",
    "    product_title = soup.find('a', {'data-testid': 'product-grid-title'}).get_text(strip=True)\n",
    "    product_url = 'https://www.amazon.in' + soup.find('a', {'data-testid': 'product-grid-title'})['href']\n",
    "    product_image_url = soup.find('img', {'data-testid': 'image'})['src']\n",
    "    product_price = soup.find('div', {'data-testid': 'grid-item-buy-price'}).get_text(strip=True)\n",
    "    product_rating = soup.find('i', {'data-testid': 'icon-star'}).get_text(strip=True)\n",
    "    product_review_count = soup.find('span', {'data-testid': 'grid-item-review-count'}).get_text(strip=True)\n",
    "    product_dict = {\n",
    "            'Title': product_title,\n",
    "            'URL': product_url,\n",
    "            'Image URL': product_image_url,\n",
    "            'Price': product_price,\n",
    "            'Rating': product_rating,\n",
    "            'Review Count': product_review_count\n",
    "        }\n",
    "    \n",
    "    product_list.append(product_dict)"
   ]
  },
  {
   "cell_type": "code",
   "execution_count": 13,
   "id": "d8582be1-a434-4f1e-9146-15a7861d32dd",
   "metadata": {},
   "outputs": [
    {
     "data": {
      "text/plain": [
       "(8, 6)"
      ]
     },
     "execution_count": 13,
     "metadata": {},
     "output_type": "execute_result"
    }
   ],
   "source": [
    "list_df = pd.DataFrame(product_list)\n",
    "list_df.shape"
   ]
  },
  {
   "cell_type": "markdown",
   "id": "d56fc9f3-b04e-45cc-b97e-ef128d6dd955",
   "metadata": {},
   "source": [
    "## Selenium "
   ]
  },
  {
   "cell_type": "code",
   "execution_count": 17,
   "id": "b34f1fbf-ea52-4d1c-8cc3-2121f3b2f2c7",
   "metadata": {},
   "outputs": [
    {
     "data": {
      "text/plain": [
       "<selenium.webdriver.chrome.webdriver.WebDriver (session=\"bc9436173031a32224c886ece58e4a32\")>"
      ]
     },
     "execution_count": 17,
     "metadata": {},
     "output_type": "execute_result"
    }
   ],
   "source": [
    "webdriver.Chrome()"
   ]
  },
  {
   "cell_type": "code",
   "execution_count": 28,
   "id": "5c6dce43-c9fb-47aa-a796-5c37d23acbbf",
   "metadata": {},
   "outputs": [
    {
     "name": "stdout",
     "output_type": "stream",
     "text": [
      "                                                Title  \\\n",
      "0   Apple 2023 MacBook Pro (14-inch, M3 Pro chip w...   \n",
      "1   Apple 2023 MacBook Pro (16-inch, M3 Max chip w...   \n",
      "2   Apple 2023 MacBook Pro (14-inch, M3 Max chip w...   \n",
      "3   Apple 2023 MacBook Pro (16-inch, M3 Pro chip w...   \n",
      "4   Apple 2023 MacBook Pro (14-inch, M3 chip with ...   \n",
      "..                                                ...   \n",
      "67  Apple Watch SE (2nd Gen, 2023) [GPS + Cellular...   \n",
      "68  Apple Watch SE (2nd Gen, 2023) [GPS + Cellular...   \n",
      "69  Apple Watch SE (2nd Gen, 2023) [GPS + Cellular...   \n",
      "70  Apple Watch SE (2nd Gen, 2023) [GPS + Cellular...   \n",
      "71  Apple Watch SE (2nd Gen, 2023) [GPS + Cellular...   \n",
      "\n",
      "                                                  URL  \\\n",
      "0   https://www.amazon.in/Apple-MacBook-14-inch-11...   \n",
      "1   https://www.amazon.in/Apple-MacBook-16-inch-16...   \n",
      "2   https://www.amazon.in/Apple-MacBook-14-inch-14...   \n",
      "3   https://www.amazon.in/Apple-MacBook-16-inch-12...   \n",
      "4   https://www.amazon.in/Apple-MacBook-14-inch-10...   \n",
      "..                                                ...   \n",
      "67  https://www.amazon.in/Apple-Cellular-Smartwatc...   \n",
      "68  https://www.amazon.in/Apple-Cellular-Smartwatc...   \n",
      "69  https://www.amazon.in/Apple-Cellular-Smartwatc...   \n",
      "70  https://www.amazon.in/Apple-Cellular-Smartwatc...   \n",
      "71  https://www.amazon.in/Apple-Cellular-Smartwatc...   \n",
      "\n",
      "                                            Image URL  \\\n",
      "0   https://m.media-amazon.com/images/I/61RJn0ofUs...   \n",
      "1   https://m.media-amazon.com/images/I/618d5bS2lU...   \n",
      "2   https://m.media-amazon.com/images/I/61RJn0ofUs...   \n",
      "3   https://m.media-amazon.com/images/I/618d5bS2lU...   \n",
      "4   https://m.media-amazon.com/images/I/61xKOBNlu2...   \n",
      "..                                                ...   \n",
      "67  https://m.media-amazon.com/images/I/61qwcs6w5T...   \n",
      "68  https://m.media-amazon.com/images/I/81bfUBcvui...   \n",
      "69  https://m.media-amazon.com/images/I/71ISygL2ZP...   \n",
      "70  https://m.media-amazon.com/images/I/71ISygL2ZP...   \n",
      "71  https://m.media-amazon.com/images/I/6185vHC3xA...   \n",
      "\n",
      "                                 Price              Rating Review Count  \n",
      "0                         ₹1,99,900.00  4.6 out of 5 stars            6  \n",
      "1                         ₹3,99,900.00  2.3 out of 5 stars            5  \n",
      "2                         ₹3,19,900.00  4.6 out of 5 stars            6  \n",
      "3                         ₹2,89,900.00  4.0 out of 5 stars            3  \n",
      "4                         ₹1,69,900.00  4.6 out of 5 stars            6  \n",
      "..                                 ...                 ...          ...  \n",
      "67         ₹37,899.00M.R.P.:₹37,900.00  4.0 out of 5 stars           23  \n",
      "68  ₹35,500.00M.R.P.:₹37,900.00(6%off)  4.0 out of 5 stars           23  \n",
      "69                          ₹37,900.00  4.0 out of 5 stars           23  \n",
      "70                          ₹37,900.00  4.0 out of 5 stars           23  \n",
      "71                          ₹37,900.00  4.0 out of 5 stars           23  \n",
      "\n",
      "[72 rows x 6 columns]\n"
     ]
    }
   ],
   "source": [
    "from selenium import webdriver\n",
    "\n",
    "from selenium.webdriver.common.by import By\n",
    "from selenium.webdriver.common.keys import Keys\n",
    "from bs4 import BeautifulSoup\n",
    "import time\n",
    "import pandas as pd\n",
    "\n",
    "# Specify the path to chromedriver if it's not in your PATH\n",
    "driverpath = r\"C:\\Users\\Slmss\\OneDrive\\Desktop\\Apple Amazon\\chrome-win64\\chrome.exe\"\n",
    "driver = webdriver.Chrome()\n",
    "\n",
    "url = 'https://www.amazon.in/stores/page/9A94395C-E55D-4231-9BB7-CA3449862110'\n",
    "driver.get(url)\n",
    "\n",
    "# Scroll the page to load more items. Adjust the range and sleep time as necessary.\n",
    "for _ in range(10):  # Adjust the range for how many times you want to scroll\n",
    "    driver.find_element(By.TAG_NAME,'body').send_keys(Keys.END)\n",
    "    time.sleep(2)\n",
    "    for _ in range(50):\n",
    "        driver.find_element(By.TAG_NAME,'body').send_keys(Keys.PAGE_UP)\n",
    "\n",
    "    time.sleep(3)  # Sleep to allow the page to load. Adjust timing as necessary.\n",
    "\n",
    "# Now that the page is loaded, get the page source\n",
    "page_source = driver.page_source\n",
    "soup = BeautifulSoup(page_source, 'html.parser')\n",
    "\n",
    "# Proceed with your BeautifulSoup code to extract product details\n",
    "products = soup.find_all('li', {'class': 'ProductGridItem__itemOuter__KUtvv ProductGridItem__grid-tapestry__D0bpE ProductGridItem__fixed__DQzmO'})\n",
    "\n",
    "product_list = []\n",
    "\n",
    "for product in products:\n",
    "    # Your parsing logic here\n",
    "    html_snippet = str(product)\n",
    "    soup = BeautifulSoup(html_snippet, 'lxml')\n",
    "\n",
    "    product_title = soup.find('a', {'data-testid': 'product-grid-title'}).get_text(strip=True)\n",
    "    product_url = 'https://www.amazon.in' + soup.find('a', {'data-testid': 'product-grid-title'})['href']\n",
    "    product_image_url = soup.find('img', {'data-testid': 'image'})['src']\n",
    "    product_price = soup.find('div', {'data-testid': 'grid-item-buy-price'}).get_text(strip=True)\n",
    "    product_rating = soup.find('i', {'data-testid': 'icon-star'}).get_text(strip=True)\n",
    "    product_review_count = soup.find('span', {'data-testid': 'grid-item-review-count'}).get_text(strip=True)\n",
    "\n",
    "    product_dict = {\n",
    "        'Title': product_title,\n",
    "        'URL': product_url,\n",
    "        'Image URL': product_image_url,\n",
    "        'Price': product_price,\n",
    "        'Rating': product_rating,\n",
    "        'Review Count': product_review_count\n",
    "    }\n",
    "    \n",
    "    product_list.append(product_dict)\n",
    "\n",
    "# Close the Selenium WebDriver\n",
    "driver.quit()\n",
    "\n",
    "# Convert the list of dictionaries into a pandas DataFrame\n",
    "df = pd.DataFrame(product_list)\n",
    "\n",
    "# Display the DataFrame\n",
    "# print(df)\n"
   ]
  },
  {
   "cell_type": "code",
   "execution_count": 30,
   "id": "79f0a63a-a8c1-4d9f-90c2-7ad212f8a477",
   "metadata": {},
   "outputs": [],
   "source": [
    "df.to_csv('Amazon_Apply_product_list.csv',index=False)"
   ]
  },
  {
   "cell_type": "code",
   "execution_count": 54,
   "id": "f754ba8b-15f7-496e-918c-f56876f8b848",
   "metadata": {},
   "outputs": [
    {
     "data": {
      "text/html": [
       "<div>\n",
       "<style scoped>\n",
       "    .dataframe tbody tr th:only-of-type {\n",
       "        vertical-align: middle;\n",
       "    }\n",
       "\n",
       "    .dataframe tbody tr th {\n",
       "        vertical-align: top;\n",
       "    }\n",
       "\n",
       "    .dataframe thead th {\n",
       "        text-align: right;\n",
       "    }\n",
       "</style>\n",
       "<table border=\"1\" class=\"dataframe\">\n",
       "  <thead>\n",
       "    <tr style=\"text-align: right;\">\n",
       "      <th></th>\n",
       "      <th>Title</th>\n",
       "      <th>URL</th>\n",
       "      <th>Image URL</th>\n",
       "      <th>Price</th>\n",
       "      <th>Rating</th>\n",
       "      <th>Review Count</th>\n",
       "    </tr>\n",
       "  </thead>\n",
       "  <tbody>\n",
       "    <tr>\n",
       "      <th>0</th>\n",
       "      <td>Apple iPhone 15 (512 GB) - Green</td>\n",
       "      <td>https://www.amazon.in/Apple-iPhone-15-512-GB/d...</td>\n",
       "      <td>https://m.media-amazon.com/images/I/71nvkHnPpZ...</td>\n",
       "      <td>₹1,01,900.00M.R.P.:₹1,09,900.00(7%off)</td>\n",
       "      <td>4.5 out of 5 stars</td>\n",
       "      <td>777</td>\n",
       "    </tr>\n",
       "    <tr>\n",
       "      <th>1</th>\n",
       "      <td>Apple iPhone 15 (128 GB) - Yellow</td>\n",
       "      <td>https://www.amazon.in/Apple-iPhone-15-128-GB/d...</td>\n",
       "      <td>https://m.media-amazon.com/images/I/71REplb5oZ...</td>\n",
       "      <td>₹72,999.00M.R.P.:₹79,900.00(9%off)</td>\n",
       "      <td>4.5 out of 5 stars</td>\n",
       "      <td>777</td>\n",
       "    </tr>\n",
       "    <tr>\n",
       "      <th>2</th>\n",
       "      <td>Apple iPhone 15 (512 GB) - Yellow</td>\n",
       "      <td>https://www.amazon.in/Apple-iPhone-15-512-GB/d...</td>\n",
       "      <td>https://m.media-amazon.com/images/I/71REplb5oZ...</td>\n",
       "      <td>₹1,09,900.00</td>\n",
       "      <td>4.5 out of 5 stars</td>\n",
       "      <td>777</td>\n",
       "    </tr>\n",
       "  </tbody>\n",
       "</table>\n",
       "</div>"
      ],
      "text/plain": [
       "                               Title  \\\n",
       "0   Apple iPhone 15 (512 GB) - Green   \n",
       "1  Apple iPhone 15 (128 GB) - Yellow   \n",
       "2  Apple iPhone 15 (512 GB) - Yellow   \n",
       "\n",
       "                                                 URL  \\\n",
       "0  https://www.amazon.in/Apple-iPhone-15-512-GB/d...   \n",
       "1  https://www.amazon.in/Apple-iPhone-15-128-GB/d...   \n",
       "2  https://www.amazon.in/Apple-iPhone-15-512-GB/d...   \n",
       "\n",
       "                                           Image URL  \\\n",
       "0  https://m.media-amazon.com/images/I/71nvkHnPpZ...   \n",
       "1  https://m.media-amazon.com/images/I/71REplb5oZ...   \n",
       "2  https://m.media-amazon.com/images/I/71REplb5oZ...   \n",
       "\n",
       "                                    Price              Rating  Review Count  \n",
       "0  ₹1,01,900.00M.R.P.:₹1,09,900.00(7%off)  4.5 out of 5 stars           777  \n",
       "1      ₹72,999.00M.R.P.:₹79,900.00(9%off)  4.5 out of 5 stars           777  \n",
       "2                            ₹1,09,900.00  4.5 out of 5 stars           777  "
      ]
     },
     "execution_count": 54,
     "metadata": {},
     "output_type": "execute_result"
    }
   ],
   "source": [
    "pd.set_option('display.max_rows',None)\n",
    "df['Review Count'] = df['Review Count'].astype(int)\n",
    "df.sort_values('Review Count',ascending=False).reset_index(drop=True).head(3)"
   ]
  },
  {
   "cell_type": "code",
   "execution_count": 53,
   "id": "7cab886a-4036-45f4-bc5b-dd3a3c6a34d8",
   "metadata": {},
   "outputs": [
    {
     "name": "stdout",
     "output_type": "stream",
     "text": [
      "https://www.amazon.in/Apple-iPhone-15-128-GB/dp/B0CHX1W1XY?ref_=ast_sto_dp&th=1&psc=1\n",
      "https://www.amazon.in/Apple-iPhone-15-Plus-128/dp/B0CHXCR9CX?ref_=ast_sto_dp&th=1&psc=1\n",
      "https://www.amazon.in/Apple-iPhone-Pro-Max-256/dp/B0CHWV2WYK?ref_=ast_sto_dp&th=1&psc=1\n",
      "https://www.amazon.in/Apple-iPhone-15-Pro-TB/dp/B0CHXDTGPW?ref_=ast_sto_dp&th=1&psc=1\n",
      "https://www.amazon.in/Apple-Cellular-Smartwatch-Midnight-Detection/dp/B0CHY284LY?ref_=ast_sto_dp&th=1&psc=1\n",
      "https://www.amazon.in/Apple-MacBook-14-inch-11%E2%80%91core-14%E2%80%91core/dp/B0CM5SRXP8?ref_=ast_sto_dp&th=1&psc=1\n",
      "https://www.amazon.in/Apple-MacBook-16-inch-16%E2%80%91core-40%E2%80%91core/dp/B0CM5SZ7CP?ref_=ast_sto_dp\n",
      "https://www.amazon.in/Apple-MacBook-16-inch-12%E2%80%91core-18%E2%80%91core/dp/B0CM5QWD5Q?ref_=ast_sto_dp&th=1&psc=1\n",
      "https://www.amazon.in/Apple-MacBook-16-inch-14%E2%80%91core-30%E2%80%91core/dp/B0CM5R9RJK?ref_=ast_sto_dp\n"
     ]
    }
   ],
   "source": [
    "reviews={}\n",
    "\n",
    "filtered_df = df.loc[df['Review Count'].drop_duplicates(keep='first').index].sort_values(by='Review Count',ascending=False).reset_index(drop=True)\n",
    "\n",
    "for page in filtered_df['URL']:\n",
    "    requests.get(page.split('?')[0])\n",
    "    print(page)"
   ]
  },
  {
   "cell_type": "code",
   "execution_count": 66,
   "id": "08a2b1c9-c1f2-4336-8f83-373482f57b8d",
   "metadata": {},
   "outputs": [],
   "source": [
    "# Specify the path to chromedriver if it's not in your PATH\n",
    "driverpath = r\"C:\\Users\\Slmss\\OneDrive\\Desktop\\Apple Amazon\\chrome-win64\\chrome.exe\"\n",
    "driver = webdriver.Chrome()\n",
    "\n",
    "# url = 'https://www.amazon.in/stores/page/9A94395C-E55D-4231-9BB7-CA3449862110'\n",
    "driver.get('https://www.amazon.in/Apple-iPhone-15-128-GB/dp/B0CHX1W1XY')\n",
    "\n",
    "driver.close()"
   ]
  },
  {
   "cell_type": "code",
   "execution_count": null,
   "id": "374ac4f7-7b45-498f-9d5a-ca23172ef043",
   "metadata": {},
   "outputs": [],
   "source": [
    "from selenium import webdriver\n",
    "from selenium.webdriver.chrome.service import Service\n",
    "from selenium.webdriver.chrome.options import Options\n",
    "\n",
    "chrome_options = Options()\n",
    "chrome_options.add_argument(\"--headless\")\n",
    "\n",
    "# Mimic a regular user agent\n",
    "# chrome_options.add_argument(\"user-agent=Mozilla/5.0 (Windows NT 10.0; Win64; x64) AppleWebKit/537.36 (KHTML, like Gecko) Chrome/88.0.4324.150 Safari/537.36\")\n",
    "\n",
    "# Specify the correct path to chromedriver, not the chrome.exe\n",
    "# driverpath = r\"C:\\Users\\Slmss\\OneDrive\\Desktop\\Apple Amazon\\chrome-win64\\chrome.exe\"\n",
    "service = Service()\n",
    "\n",
    "driver = webdriver.Chrome(service=service, options=chrome_options)\n",
    "\n",
    "driver.get('https://www.amazon.in/Apple-iPhone-15-128-GB/dp/B0CHX1W1XY')\n",
    "# Remember to close the driver\n",
    "driver.quit()"
   ]
  },
  {
   "cell_type": "code",
   "execution_count": null,
   "id": "60e9f2bd-4edb-4318-a51c-793db8bbcc7e",
   "metadata": {},
   "outputs": [],
   "source": [
    "class=\"a-size-base\""
   ]
  }
 ],
 "metadata": {
  "kernelspec": {
   "display_name": "Python 3 (ipykernel)",
   "language": "python",
   "name": "python3"
  },
  "language_info": {
   "codemirror_mode": {
    "name": "ipython",
    "version": 3
   },
   "file_extension": ".py",
   "mimetype": "text/x-python",
   "name": "python",
   "nbconvert_exporter": "python",
   "pygments_lexer": "ipython3",
   "version": "3.11.5"
  }
 },
 "nbformat": 4,
 "nbformat_minor": 5
}
