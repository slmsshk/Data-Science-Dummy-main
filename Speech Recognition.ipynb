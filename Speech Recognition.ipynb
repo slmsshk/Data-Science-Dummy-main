{
 "cells": [
  {
   "cell_type": "code",
   "execution_count": null,
   "id": "d33582e8-6189-4ea3-bbc0-fdea6d316a7b",
   "metadata": {},
   "outputs": [],
   "source": [
    "!pip install SpeechRecognition"
   ]
  },
  {
   "cell_type": "code",
   "execution_count": null,
   "id": "f02b1f11-c1d8-46de-8580-1e6d9b074c3f",
   "metadata": {},
   "outputs": [],
   "source": [
    "pip install pyaudio"
   ]
  },
  {
   "cell_type": "code",
   "execution_count": null,
   "id": "32fcb1d9-adbb-443b-8fef-3267f708beef",
   "metadata": {},
   "outputs": [],
   "source": [
    "def list_microphones():\n",
    "    for index, name in enumerate(sr.Microphone.list_microphone_names()):\n",
    "        print(f\"Microphone with index {index} is named '{name}'\")"
   ]
  },
  {
   "cell_type": "code",
   "execution_count": null,
   "id": "abb215fd-c4ac-4b4b-80ad-594a001972bf",
   "metadata": {},
   "outputs": [],
   "source": [
    "sr.Microphone.list_microphone_names()"
   ]
  },
  {
   "cell_type": "code",
   "execution_count": null,
   "id": "6546e656-1a61-4dd2-a387-b42d49e2ffaf",
   "metadata": {},
   "outputs": [],
   "source": [
    "import speech_recognition as sr"
   ]
  },
  {
   "cell_type": "code",
   "execution_count": null,
   "id": "fe72667a-5a14-4180-9fa7-b12a35499909",
   "metadata": {},
   "outputs": [],
   "source": [
    "recognizer = sr.Recognizer()\n",
    "\n",
    "with sr.Microphone() as source:\n",
    "    print(\"Say something:\")\n",
    "    audio_data = recognizer.listen(source)\n",
    "    text = recognizer.recognize_google(audio_data)\n",
    "    print(\"You said:\", text)"
   ]
  },
  {
   "cell_type": "code",
   "execution_count": null,
   "id": "c9a6e336-be8c-4659-88a0-99c171cc087a",
   "metadata": {
    "scrolled": true
   },
   "outputs": [],
   "source": [
    "pip install gtts"
   ]
  },
  {
   "cell_type": "code",
   "execution_count": null,
   "id": "90547b59-d76a-4fde-b94e-41c58b04b270",
   "metadata": {},
   "outputs": [],
   "source": [
    "from gtts import gTTS\n",
    "\n",
    "tts = gTTS(text,lang='en')\n",
    "tts.save('output.mp3')"
   ]
  },
  {
   "cell_type": "code",
   "execution_count": null,
   "id": "88e89d8e-31bb-4453-ad8b-eb9e3478ef3e",
   "metadata": {},
   "outputs": [],
   "source": [
    "import os\n",
    "os.system('output.mp3')"
   ]
  }
 ],
 "metadata": {
  "kernelspec": {
   "display_name": "Python 3 (ipykernel)",
   "language": "python",
   "name": "python3"
  },
  "language_info": {
   "codemirror_mode": {
    "name": "ipython",
    "version": 3
   },
   "file_extension": ".py",
   "mimetype": "text/x-python",
   "name": "python",
   "nbconvert_exporter": "python",
   "pygments_lexer": "ipython3",
   "version": "3.11.5"
  }
 },
 "nbformat": 4,
 "nbformat_minor": 5
}
